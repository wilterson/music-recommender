{
  "nbformat": 4,
  "nbformat_minor": 0,
  "metadata": {
    "colab": {
      "provenance": []
    },
    "kernelspec": {
      "name": "python3",
      "display_name": "Python 3"
    },
    "language_info": {
      "name": "python"
    }
  },
  "cells": [
    {
      "cell_type": "code",
      "execution_count": null,
      "metadata": {
        "id": "Ez_fIsDa4VLl"
      },
      "outputs": [],
      "source": [
        "import pandas as pd\n"
      ]
    },
    {
      "cell_type": "code",
      "source": [
        "df_genres = pd.read_csv('spotify_data_by_genres.csv')\n",
        "df_genres = pd.read_csv('spotify_data_by_genres.csv')\n"
      ],
      "metadata": {
        "id": "heLirRMU47Sk"
      },
      "execution_count": null,
      "outputs": []
    },
    {
      "cell_type": "code",
      "source": [
        "df_genres.head()"
      ],
      "metadata": {
        "id": "Wf2ZVCw-5M5r"
      },
      "execution_count": null,
      "outputs": []
    },
    {
      "cell_type": "code",
      "source": [
        "df_genres.describe()"
      ],
      "metadata": {
        "id": "KqxgtH6D5Qj9"
      },
      "execution_count": null,
      "outputs": []
    }
  ]
}